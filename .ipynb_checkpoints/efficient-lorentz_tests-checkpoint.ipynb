{
 "metadata": {
  "language": "Julia",
  "name": ""
 },
 "nbformat": 3,
 "nbformat_minor": 0,
 "worksheets": [
  {
   "cells": [
    {
     "cell_type": "code",
     "collapsed": false,
     "input": [
      "using EfficientLorentz"
     ],
     "language": "python",
     "metadata": {},
     "outputs": [],
     "prompt_number": 1
    },
    {
     "cell_type": "code",
     "collapsed": false,
     "input": [
      "x, y = 0, 0.445; vx, vy = cos(1), sin(1); r = 0.1"
     ],
     "language": "python",
     "metadata": {},
     "outputs": [
      {
       "metadata": {},
       "output_type": "pyout",
       "prompt_number": 2,
       "text": [
        "0.1"
       ]
      }
     ],
     "prompt_number": 2
    },
    {
     "cell_type": "code",
     "collapsed": false,
     "input": [
      "collisions(x, y, vx, vy, r, 20)"
     ],
     "language": "python",
     "metadata": {},
     "outputs": [
      {
       "metadata": {},
       "output_type": "pyout",
       "prompt_number": 4,
       "text": [
        "(Array{T,1}[[1,2],[-1,-1],[-1,0],[0,-5],[-3,-7],[1,0],[-24,24],[-24,25],[-25,24],[-26,25],[-26,24],[-22,23],[-23,24],[-17,25],[-17,26],[-4,25],[-5,26],[-6,23],[-5,20],[-6,18]],Array{T,1}[[0.0,0.445],[0.94488,1.91656],[-0.971676,-0.904095],[-0.989769,-0.0994753],[-0.0924276,-4.96183],[-2.93286,-6.92589],[0.901081,-0.0146623],[-23.9109,24.0455],[-24.0357,24.9066],[-24.9997,24.1]  \u2026  [-25.922,24.0626],[-22.0853,23.0522],[-22.9053,23.9679],[-17.0718,25.0696],[-16.9377,25.9218],[-4.09129,25.0408],[-4.97574,25.903],[-5.90003,22.9977],[-5.09963,20.0085],[-5.98189,18.0983]],Array{T,1}[[0.540302,0.841471],[-0.562011,-0.82713],[-0.0224803,0.999747],[0.181484,-0.983394],[-0.822515,-0.568743],[0.485098,0.87446],[-0.7179,0.696146],[-0.143382,0.989667],[-0.766943,-0.641715],[-0.763054,0.646335]  \u2026  [0.967026,-0.254676],[-0.667101,0.744968],[0.982629,0.185582],[0.155475,0.98784],[0.997657,-0.0684178],[-0.716072,0.698026],[-0.303166,-0.952938],[0.258655,-0.96597],[-0.419302,-0.907847],[-0.0683261,0.997663]])"
       ]
      }
     ],
     "prompt_number": 4
    },
    {
     "cell_type": "code",
     "collapsed": false,
     "input": [
      "using PyPlot"
     ],
     "language": "python",
     "metadata": {},
     "outputs": [
      {
       "output_type": "stream",
       "stream": "stderr",
       "text": [
        "INFO: Loading help data...\n"
       ]
      }
     ],
     "prompt_number": 5
    },
    {
     "cell_type": "code",
     "collapsed": false,
     "input": [
      "circles_top(x, r, n, m) = sqrt(r^2 - (x - n)^2) + m\n",
      "circles_bottom(x, r, n, m) = - sqrt(r^2 - (x - n)^2) + m"
     ],
     "language": "python",
     "metadata": {},
     "outputs": [
      {
       "metadata": {},
       "output_type": "pyout",
       "prompt_number": 22,
       "text": [
        "circles_bottom (generic function with 1 method)"
       ]
      }
     ],
     "prompt_number": 22
    },
    {
     "cell_type": "code",
     "collapsed": false,
     "input": [
      "N = 5000\n",
      "r = 0.1\n",
      "for n = -5:5\n",
      "    for m = -5:5\n",
      "        for i = 1:N-1\n",
      "            x = 2r*i/N + n - r\n",
      "            points_top = circles_top(x, r, n, m)\n",
      "            points_bottom = circles_bottom(x, r, n, m)\n",
      "            plt.plot(x, points_top, \"b.\", markersize=1, alpha=0.3)\n",
      "            plt.plot(x, points_bottom, \"b.\", markersize=1, alpha=0.3)\n",
      "        end\n",
      "    end\n",
      "end"
     ],
     "language": "python",
     "metadata": {},
     "outputs": [],
     "prompt_number": "*"
    },
    {
     "cell_type": "code",
     "collapsed": false,
     "input": [
      "\n"
     ],
     "language": "python",
     "metadata": {},
     "outputs": []
    }
   ],
   "metadata": {}
  }
 ]
}