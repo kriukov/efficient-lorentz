{
 "cells": [
  {
   "cell_type": "code",
   "execution_count": 8,
   "metadata": {
    "collapsed": false
   },
   "outputs": [
    {
     "data": {
      "text/plain": [
       "Lorentz3D (generic function with 1 method)"
      ]
     },
     "execution_count": 8,
     "metadata": {},
     "output_type": "execute_result"
    }
   ],
   "source": [
    "include(\"efficient.jl\")"
   ]
  },
  {
   "cell_type": "code",
   "execution_count": 2,
   "metadata": {
    "collapsed": false
   },
   "outputs": [
    {
     "ename": "LoadError",
     "evalue": "`Lorentz3D` has no method matching Lorentz3D()\nwhile loading In[2], in expression starting on line 1",
     "output_type": "error",
     "traceback": [
      "`Lorentz3D` has no method matching Lorentz3D()\nwhile loading In[2], in expression starting on line 1",
      ""
     ]
    }
   ],
   "source": [
    "LLorentz3D(x,v,r) at /Users/dsanders/Dropbox/papers/efficient_Lorentz/Efficient algorithm draft/draft/efficient.jl:376"
   ]
  },
  {
   "cell_type": "code",
   "execution_count": 3,
   "metadata": {
    "collapsed": false
   },
   "outputs": [
    {
     "data": {
      "text/html": [
       "1 method for generic function <b>Lorentz3D</b>:<ul><li> Lorentz3D(x,v,r) at <a href=\"https://github.com/kriukov/efficient-lorentz/tree/0c63d32e68b185ea875aab590f452666ec8a8e23/Efficient algorithm draft/draft/efficient.jl#L376\" target=\"_blank\">/Users/dsanders/Dropbox/papers/efficient_Lorentz/Efficient algorithm draft/draft/efficient.jl:376</a></ul>"
      ],
      "text/plain": [
       "# 1 method for generic function \"Lorentz3D\":\n",
       "Lorentz3D(x,v,r) at /Users/dsanders/Dropbox/papers/efficient_Lorentz/Efficient algorithm draft/draft/efficient.jl:376"
      ]
     },
     "execution_count": 3,
     "metadata": {},
     "output_type": "execute_result"
    }
   ],
   "source": [
    "methods(Lorentz3D\n",
    ")"
   ]
  },
  {
   "cell_type": "code",
   "execution_count": 9,
   "metadata": {
    "collapsed": false
   },
   "outputs": [],
   "source": [
    "v = [1., 1., 3.]\n",
    "v /= norm(v)\n",
    "r = 0.1\n",
    "\n",
    "x = rand(3)\n",
    "while norm(x) < r\n",
    "    x = rand(3)\n",
    "end\n",
    "\n",
    "#Lorentz3D(x, v, r)"
   ]
  },
  {
   "cell_type": "code",
   "execution_count": 10,
   "metadata": {
    "collapsed": false
   },
   "outputs": [
    {
     "name": "stdout",
     "output_type": "stream",
     "text": [
      "mm2 => Inf\n"
     ]
    },
    {
     "ename": "LoadError",
     "evalue": "InexactError()\nwhile loading In[10], in expression starting on line 1",
     "output_type": "error",
     "traceback": [
      "InexactError()\nwhile loading In[10], in expression starting on line 1",
      "",
      " in frac at /Users/dsanders/Dropbox/papers/efficient_Lorentz/Efficient algorithm draft/draft/efficient.jl:40",
      " in eff at /Users/dsanders/Dropbox/papers/efficient_Lorentz/Efficient algorithm draft/draft/efficient.jl:104",
      " in Lorentz at /Users/dsanders/Dropbox/papers/efficient_Lorentz/Efficient algorithm draft/draft/efficient.jl:146",
      " in Lorentz3D at /Users/dsanders/Dropbox/papers/efficient_Lorentz/Efficient algorithm draft/draft/efficient.jl:401"
     ]
    }
   ],
   "source": [
    "Lorentz3D(x, v, r)"
   ]
  },
  {
   "cell_type": "code",
   "execution_count": 3,
   "metadata": {
    "collapsed": false
   },
   "outputs": [
    {
     "data": {
      "text/plain": [
       "ClassicLorentz (generic function with 1 method)"
      ]
     },
     "execution_count": 3,
     "metadata": {},
     "output_type": "execute_result"
    }
   ],
   "source": [
    "function ClassicLorentz(x,v,r)\n",
    "    xr=false\n",
    "    i=0.5\n",
    "    \n",
    "    while (xr==false)\n",
    "        xr=collision(x,int(x+v*(i)),r,v)\n",
    "        i=i+1-2*r\n",
    "    end\n",
    "    \n",
    "    xr\n",
    "end"
   ]
  },
  {
   "cell_type": "code",
   "execution_count": 4,
   "metadata": {
    "collapsed": false
   },
   "outputs": [
    {
     "data": {
      "text/plain": [
       "3-element Array{Float64,1}:\n",
       " 8389.08     \n",
       " 8389.88     \n",
       "    4.19451e6"
      ]
     },
     "execution_count": 4,
     "metadata": {},
     "output_type": "execute_result"
    }
   ],
   "source": [
    "ClassicLorentz(x, v, r)"
   ]
  },
  {
   "cell_type": "code",
   "execution_count": null,
   "metadata": {
    "collapsed": true
   },
   "outputs": [],
   "source": []
  }
 ],
 "metadata": {
  "kernelspec": {
   "display_name": "Julia 0.3.8-pre",
   "language": "julia",
   "name": "julia-0.3"
  },
  "language_info": {
   "name": "julia",
   "version": "0.3.9"
  }
 },
 "nbformat": 4,
 "nbformat_minor": 0
}
