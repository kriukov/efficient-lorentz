{
 "cells": [
  {
   "cell_type": "code",
   "execution_count": 2,
   "metadata": {
    "collapsed": false
   },
   "outputs": [
    {
     "data": {
      "text/plain": [
       "Lorentz3D (generic function with 1 method)"
      ]
     },
     "execution_count": 2,
     "metadata": {},
     "output_type": "execute_result"
    }
   ],
   "source": [
    "include(\"efficient.jl\")"
   ]
  },
  {
   "cell_type": "code",
   "execution_count": 2,
   "metadata": {
    "collapsed": false
   },
   "outputs": [
    {
     "ename": "LoadError",
     "evalue": "`Lorentz3D` has no method matching Lorentz3D()\nwhile loading In[2], in expression starting on line 1",
     "output_type": "error",
     "traceback": [
      "`Lorentz3D` has no method matching Lorentz3D()\nwhile loading In[2], in expression starting on line 1",
      ""
     ]
    }
   ],
   "source": [
    "LLorentz3D(x,v,r) at /Users/dsanders/Dropbox/papers/efficient_Lorentz/Efficient algorithm draft/draft/efficient.jl:376"
   ]
  },
  {
   "cell_type": "code",
   "execution_count": 3,
   "metadata": {
    "collapsed": false
   },
   "outputs": [
    {
     "data": {
      "text/html": [
       "1 method for generic function <b>Lorentz3D</b>:<ul><li> Lorentz3D(x,v,r) at <a href=\"https://github.com/kriukov/efficient-lorentz/tree/0c63d32e68b185ea875aab590f452666ec8a8e23/Efficient algorithm draft/draft/efficient.jl#L376\" target=\"_blank\">/Users/dsanders/Dropbox/papers/efficient_Lorentz/Efficient algorithm draft/draft/efficient.jl:376</a></ul>"
      ],
      "text/plain": [
       "# 1 method for generic function \"Lorentz3D\":\n",
       "Lorentz3D(x,v,r) at /Users/dsanders/Dropbox/papers/efficient_Lorentz/Efficient algorithm draft/draft/efficient.jl:376"
      ]
     },
     "execution_count": 3,
     "metadata": {},
     "output_type": "execute_result"
    }
   ],
   "source": [
    "methods(Lorentz3D\n",
    ")"
   ]
  },
  {
   "cell_type": "code",
   "execution_count": 3,
   "metadata": {
    "collapsed": false
   },
   "outputs": [
    {
     "ename": "LoadError",
     "evalue": "InexactError()\nwhile loading In[3], in expression starting on line 10",
     "output_type": "error",
     "traceback": [
      "InexactError()\nwhile loading In[3], in expression starting on line 10",
      "",
      " in frac at /Users/dsanders/Dropbox/papers/efficient_Lorentz/Efficient algorithm draft/draft/efficient.jl:33",
      " in eff at /Users/dsanders/Dropbox/papers/efficient_Lorentz/Efficient algorithm draft/draft/efficient.jl:97",
      " in Lorentz at /Users/dsanders/Dropbox/papers/efficient_Lorentz/Efficient algorithm draft/draft/efficient.jl:139",
      " in Lorentz3D at /Users/dsanders/Dropbox/papers/efficient_Lorentz/Efficient algorithm draft/draft/efficient.jl:391"
     ]
    }
   ],
   "source": [
    "v = [1., 1., 3.]\n",
    "v /= norm(v)\n",
    "r = 0.1\n",
    "\n",
    "x = rand(3)\n",
    "while norm(x) < r\n",
    "    x = rand(3)\n",
    "end\n",
    "\n",
    "Lorentz3D(x, v, r)"
   ]
  },
  {
   "cell_type": "code",
   "execution_count": null,
   "metadata": {
    "collapsed": true
   },
   "outputs": [],
   "source": []
  }
 ],
 "metadata": {
  "kernelspec": {
   "display_name": "Julia 0.3.8-pre",
   "language": "julia",
   "name": "julia-0.3"
  },
  "language_info": {
   "name": "julia",
   "version": "0.3.9"
  }
 },
 "nbformat": 4,
 "nbformat_minor": 0
}
