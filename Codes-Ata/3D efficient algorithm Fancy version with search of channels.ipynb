{
 "cells": [
  {
   "cell_type": "markdown",
   "metadata": {},
   "source": [
    "N-dimensional functions:\n",
    "\n",
    "collision calculates the place where a particle with position x1 and velocity v collide with an obstacle of radius r and centre x2. If there is not collision returns \"false\".\n",
    "\n",
    "velo_col, calculates de velocity after the collision, if the collision takes place at position x1, with an obstacle with centre x2, and initial velocity v.\n"
   ]
  },
  {
   "cell_type": "code",
   "execution_count": 1,
   "metadata": {
    "collapsed": false
   },
   "outputs": [
    {
     "data": {
      "text/plain": [
       "velo_col (generic function with 1 method)"
      ]
     },
     "execution_count": 1,
     "metadata": {},
     "output_type": "execute_result"
    }
   ],
   "source": [
    "function collision(x1,x2,r,v)\n",
    "    v2=dot(v,v)\n",
    "    b=dot((x1-x2),v)/v2\n",
    "    c=(dot((x1-x2),(x1-x2))-r^2)/v2\n",
    "    if(BigFloat(b^2-c)<BigFloat(\"0\"))\n",
    "        return false, 0\n",
    "    end\n",
    "    t=-b-sqrt(b^2-c)\n",
    "    x=v*t+x1\n",
    "    return x, t\n",
    "\n",
    "end\n",
    "\n",
    "function velo_col(x1,x2,v)\n",
    "    n=(x1-x2)\n",
    "    n=n/norm(n)\n",
    "    vn=dot(n,v)*n\n",
    "    v=v-2*vn\n",
    "    v=v/norm(v)\n",
    "    return v\n",
    "end"
   ]
  },
  {
   "cell_type": "markdown",
   "metadata": {},
   "source": [
    "2D effitient algorithm:\n",
    "\n",
    "function $frac(\\alpha,\\epsilon)$ return the smallest integrate numbers, $p$ and $q$, such that $|\\alpha−p/q|<\\epsilon/q$. It use the continued fraction develpement.\n",
    "\n",
    "nextt(x,v,r) calculates the first of the next possibilities: The interesection of a particle at a initial position $x$ and velocity $v$, with the next line of the forme $(n,y)$, where $n$ is an integrer and $y$ is the variable or the intersection of the particle an one of the obstacles of radious $r$, and center at $int(x)$, or $int(x)+e1$, or $int(x)+e2$, or $int(x)+e1+e2$.\n",
    "\n",
    "eff(m,b,r) calculates the center of the next obstacle of radious r with which a particle will collide in a squere arrangement, if the particle have a position $x=(0,b)$ and a velocity $(vx,vy)$ such that $0<vy/vx<1$ and $vy>0$.\n",
    "\n",
    "Lor(x,v,r) calculates using next and eff, the center of the next obstacle of radious r with which a particle with initial position x and velocity v=[vx,vy] will collide in a squere arrangement if vx>vy>0\n",
    "\n",
    "Finally, Lorentz(x,v,r) use rotations and reflexions to generalize Lor(x,v,r) to any velocity"
   ]
  },
  {
   "cell_type": "code",
   "execution_count": 2,
   "metadata": {
    "collapsed": false
   },
   "outputs": [
    {
     "data": {
      "text/plain": [
       "Lorentz2 (generic function with 1 method)"
      ]
     },
     "execution_count": 2,
     "metadata": {},
     "output_type": "execute_result"
    }
   ],
   "source": [
    "function frac(x, epsilon)\n",
    "   h1, h2 = 1, 0\n",
    "   k1, k2 = 0, 1\n",
    "   b = x\n",
    "   while abs(k1*x - h1) > epsilon\n",
    "       a = ifloor(b)\n",
    "       h1, h2 = a*h1 + h2, h1\n",
    "       k1, k2 = a*k1 + k2, k1\n",
    "       b = 1/(b - a)\n",
    "   end\n",
    "   return k1, h1\n",
    "end\n",
    "\n",
    "\n",
    "\n",
    "function nextt1(x,v,r) \n",
    "    e1=[1,0]\n",
    "    e2=[0,1]\n",
    "    nn=int(x)\n",
    "    x1=x-nn      \n",
    "    t=(-x1[1])/v[1]\n",
    "    test=1\n",
    "    if(t<0)\n",
    "        t=(1-x1[1])/v[1] \n",
    "        test=2\n",
    "    end\n",
    "    xx1=x1+v*t\n",
    "    b=xx1[2]    \n",
    "    epsilon=r/v[1]\n",
    "    testt=0\n",
    "    if(test==1)\n",
    "        if((b>-epsilon && b<epsilon))\n",
    "            return nn, testt\n",
    "        elseif((1-b>-epsilon) && (1-b<epsilon))\n",
    "            return nn+e2, testt\n",
    "        end       \n",
    "    elseif(test==2)\n",
    "        if((b>-epsilon && b<epsilon))\n",
    "            return nn+e1, testt\n",
    "        elseif(1-b>-epsilon && 1-b<epsilon) \n",
    "            return nn+e1+e2,testt\n",
    "        end\n",
    "    end\n",
    "    testt=1\n",
    "    return nn+xx1, testt\n",
    "end\n",
    "\n",
    "function eff2(m, b, r)\n",
    "\tkn = 0\n",
    "#   b=BigFloat(b)\n",
    "    b1=b\n",
    "    epsilon=r*sqrt(m*m+1) \n",
    "    if(b < epsilon || 1 - b < epsilon)\n",
    "        if b < BigFloat(\"0.5\")\n",
    "\t\t\t(q, p) = frac(m, 2.*b)\n",
    "\t\telse\n",
    "\t\t\t(q, p) = frac(m, 2.*(1. - b))\n",
    "\t\tend\n",
    "\t\tb = mod(m*q + b, 1)\n",
    "\t\tkn += q\n",
    "    end  \n",
    "    b1=copy(b)\n",
    "\twhile b > epsilon && 1 - b > epsilon\n",
    "\t\tif b < BigFloat(\"0.5\")\n",
    "\t\t\t(q, p) = frac(m, 2.*b)\n",
    "\t\telse\n",
    "\t\t\t(q, p) = frac(m, 2.*(1. - b))\n",
    "\t\tend\n",
    "\t\tb = mod(m*q + b, 1)\n",
    "\t\tkn += q\n",
    "#        println(b, \"  \", b1)\n",
    "        if(abs(b-b1)<BigFloat(\"0.000000000000000000000000000000000000000000000000001\") )\n",
    "            return false\n",
    "        end\n",
    "\tend\n",
    "\tq = kn\n",
    "    p = int(m*q+b1)\n",
    "    return [q, p]\n",
    "end\n",
    "\n",
    "function Lor2(x,v,r)   #This function obtain the coordenates of the obstacle with which \n",
    "                    #a particle at a initial position x, and intial velocity v collids \n",
    "                    #if both components of the velocity are positive, and the slope is less than 1.\n",
    "    x1,test=nextt1(x,v,r)\n",
    "    if(test==0)\n",
    "        return x1\n",
    "    end\n",
    "    v1=v[1]\n",
    "    v2=v[2]\n",
    "    m=v2/v1\n",
    "    b=x1[2]\n",
    "    b=b-floor(b)\n",
    "    de=[0, int(b)]\n",
    "    centro=eff2(m,b,r)\n",
    "    if(centro==false)\n",
    "        return false\n",
    "    end\n",
    "    x2=int(x1)-de+centro\n",
    "    return x2\n",
    "end\n",
    "\n",
    "function Lorentz2(x,v,r)  \n",
    "    ROT=[[0 1],\n",
    "        [-1 0]]  #Rotational matrix π/2 radians\n",
    "    REF=[[0 1],\n",
    "        [1 0]]   #Reflect matrix, change y->x and x->y\n",
    "    ROT2=ROT^2\n",
    "    ROT3=ROT^3\n",
    "    v1=v[1]\n",
    "    v2=v[2]\n",
    "    vv=copy(v)\n",
    "    xx=copy(x)\n",
    "    m1=v2/v1\n",
    "    if(norm(int(x)-x)<r)   #if a particle begin inside an obstacle, then the first collision \n",
    "                          #is considered with the same obstacle.\n",
    "        return int(x)\n",
    "    end\n",
    "    if(m1>=0 && v2>=0)  # if the velocity is in the quadrant I \n",
    "        if(m1<=1)\n",
    "            xx=Lor2(xx,vv,r)\n",
    "            if(xx==false)\n",
    "                return false\n",
    "            end\n",
    "        elseif(m1>1)  \n",
    "            xx=REF*xx\n",
    "            vv=REF*vv\n",
    "            xx=Lor2(xx,vv,r)\n",
    "            if(xx==false)\n",
    "                return false\n",
    "            end\n",
    "            xx=REF*xx\n",
    "            vv=REF*vv            \n",
    "        end\n",
    "        return xx\n",
    "    elseif(m1>=0 && v2<0) #if the velocity is in the quadrant III\n",
    "        xx=ROT2*xx\n",
    "        vv=ROT2*vv\n",
    "        if(m1<=1)\n",
    "            xx=Lor2(xx,vv,r)  \n",
    "            if(xx==false)\n",
    "                return false\n",
    "            end\n",
    "        elseif(m1>1)\n",
    "            xx=REF*xx\n",
    "            vv=REF*vv\n",
    "            xx=Lor2(xx,vv,r)\n",
    "            if(xx==false)\n",
    "                return false\n",
    "            end\n",
    "            xx=REF*xx\n",
    "            vv=REF*vv   \n",
    "        end\n",
    "        xx=ROT2*xx\n",
    "        vv=ROT2*vv\n",
    "        return xx\n",
    "    elseif(m1<0 && v2>=0) #if the velocity is in the quadrant II\n",
    "        xx=ROT*xx\n",
    "        vv=ROT*vv\n",
    "        if(m1<-1)\n",
    "            xx=Lor2(xx,vv,r) \n",
    "            if(xx==false)\n",
    "                return false\n",
    "            end            \n",
    "        elseif(m1>=-1)\n",
    "            xx=REF*xx\n",
    "            vv=REF*vv\n",
    "            xx=Lor2(xx,vv,r)\n",
    "            if(xx==false)\n",
    "                return false\n",
    "            end            \n",
    "            xx=REF*xx   \n",
    "            vv=REF*vv \n",
    "        end     \n",
    "        xx=ROT3*xx\n",
    "        vv=ROT3*vv\n",
    "        return xx\n",
    "    elseif(m1<0 && v2<0) #if the velocity is in the quadrant IV\n",
    "        xx=ROT3*xx\n",
    "        vv=ROT3*vv\n",
    "        if(m1<-1)\n",
    "            xx=Lor2(xx,vv,r)  \n",
    "            if(xx==false)\n",
    "                return false\n",
    "            end                \n",
    "        elseif(m1>=-1)\n",
    "            xx=REF*xx\n",
    "            vv=REF*vv\n",
    "            xx=Lor2(xx,vv,r)\n",
    "            if(xx==false)\n",
    "                return false\n",
    "            end          \n",
    "            xx=REF*xx\n",
    "            vv=REF*vv \n",
    "        end   \n",
    "        xx=ROT*xx\n",
    "        vv=ROT3*vv\n",
    "        return xx\n",
    "    end\n",
    "end"
   ]
  },
  {
   "cell_type": "markdown",
   "metadata": {},
   "source": [
    "Now, to do a simulation, we can use center=Lorentz1(x,v,r) to obtain the coordenates of the obstacle, then use x=collision(x,center,r,v) to calculate the exact point of collision, and then v=velo_col(x,center,v) to calculate the new velocity. Then the whole simulation will be:"
   ]
  },
  {
   "cell_type": "code",
   "execution_count": 3,
   "metadata": {
    "collapsed": false
   },
   "outputs": [
    {
     "data": {
      "text/plain": [
       "LorentzGas1 (generic function with 1 method)"
      ]
     },
     "execution_count": 3,
     "metadata": {},
     "output_type": "execute_result"
    }
   ],
   "source": [
    "function LorentzGas1(x,v,r,steps)\n",
    "    for i=1:steps\n",
    "        center=Lorentz2(x,v,r) \n",
    "        x, t=collision(x,center,r,v)\n",
    "        v=velo_col(x,center,v)\n",
    "    end\n",
    "    return x, v\n",
    "end "
   ]
  },
  {
   "cell_type": "code",
   "execution_count": 4,
   "metadata": {
    "collapsed": false
   },
   "outputs": [
    {
     "data": {
      "text/plain": [
       "(BigFloat[-1.673749000009079965672955544706715387629696284467034586980527342220116061490323e+06,1.261090000041897760534363841037761604825097151253596632431602111848782373527842e+05],BigFloat[-9.939685785305957573149019863537268381165909206576147309924715107602274445298272e-01,-1.096652401349985415524148076791152202923891075955007645272489645669624567494056e-01])"
      ]
     },
     "execution_count": 4,
     "metadata": {},
     "output_type": "execute_result"
    }
   ],
   "source": [
    "r=BigFloat(\"0.00001\")\n",
    "x=rand(2).*BigFloat[1,1]\n",
    "angle=BigFloat(rand(1)[1])*pi*2.\n",
    "v=[cos(angle), sin(angle)]\n",
    "v=v/norm(v)\n",
    "steps=1000\n",
    "x,v=LorentzGas1(x,v,r,steps)\n"
   ]
  },
  {
   "cell_type": "markdown",
   "metadata": {},
   "source": [
    "Or, to calculate using a maximum time instead of steps to calculate diffusion:"
   ]
  },
  {
   "cell_type": "code",
   "execution_count": 5,
   "metadata": {
    "collapsed": false
   },
   "outputs": [
    {
     "data": {
      "text/plain": [
       "LorentzGas2 (generic function with 1 method)"
      ]
     },
     "execution_count": 5,
     "metadata": {},
     "output_type": "execute_result"
    }
   ],
   "source": [
    "function LorentzGas2(x,v,r,time)\n",
    "    t=0\n",
    "    v1=copy(v)\n",
    "    while(t<time)\n",
    "        x1=copy(x)\n",
    "        v1=copy(v)\n",
    "        center=Lorentz2(x,v,r) \n",
    "        x, tt=collision(x,center,r,v)\n",
    "        v=velo_col(x,center,v)\n",
    "        t=t+tt #norm(x-x1)\n",
    "    end\n",
    "    t=t-time\n",
    "    if(t==0)\n",
    "        v1=v\n",
    "    end\n",
    "    x=x-t*v1\n",
    "    return x, v1\n",
    "end "
   ]
  },
  {
   "cell_type": "markdown",
   "metadata": {},
   "source": [
    "A 3D version of the Lorentz gas can be produced by looking on 3 of the proyected planes xy, xz, and yz. Here it is:"
   ]
  },
  {
   "cell_type": "code",
   "execution_count": 6,
   "metadata": {
    "collapsed": false
   },
   "outputs": [
    {
     "data": {
      "text/plain": [
       "Lorentz3D2 (generic function with 1 method)"
      ]
     },
     "execution_count": 6,
     "metadata": {},
     "output_type": "execute_result"
    }
   ],
   "source": [
    "function Lorentz3D2(x,v,r)\n",
    "    if(norm(int(x)-x)<r)   #if a particle begin inside an obstacle, then the first collision \n",
    "                          #is considered with the same obstacle.\n",
    "    xx, t=collision(x,int(x),r,v)\n",
    "        return xx\n",
    "    end\n",
    "    x1=zeros(2)\n",
    "    x2=zeros(2)\n",
    "    x3=zeros(2)\n",
    "    xr=false\n",
    "    while (xr==false)\n",
    "        v_xy=[v[1], v[2]]\n",
    "        v_xz=[v[1], v[3]]\n",
    "        v_yz=[v[2], v[3]]                #Velocities in the planes xy, xz, and yz\n",
    "        vn_xy=v_xy./BigFloat(sqrt(dot(v_xy,v_xy)))\n",
    "        vn_xz=v_xz./BigFloat(sqrt(dot(v_xz,v_xz)))\n",
    "        vn_yz=v_yz./BigFloat(sqrt(dot(v_yz,v_yz))) #normalized velocities in the planes xy, xz, and yz\n",
    "        tmax=BigFloat(\"0\")\n",
    "        tmin=BigFloat(\"-2\")\n",
    "        x1[1]=1\n",
    "        x1[2]=2\n",
    "        x2[1]=3\n",
    "        x2[2]=4\n",
    "        x3[1]=5 \n",
    "        x3[2]=6\n",
    "        #        while (int(tmax)>int(tmin+BigFloat(\"0.5\")) )   #it can be considerin time conincidence\n",
    "        while(x1[1]!=x2[1] || x1[2]!=x3[1] || x2[2]!=x3[2])    #or considering the obstacle coincidence.\n",
    "            x_xy=[x[1], x[2]]\n",
    "            x_xz=[x[1], x[3]]\n",
    "            x_yz=[x[2], x[3]]                #positions in the planes xy, xz, and yz\n",
    "\n",
    "            x1=Lorentz2(x_xy,vn_xy,r)#calculate the position of obstacle that collide with the particle \n",
    "            if(x1==false)\n",
    "                return false\n",
    "            end\n",
    "            x2=Lorentz2(x_xz,vn_xz,r)# in the 2D Lorentz gas for the 3 planes\n",
    "            if(x2==false)\n",
    "                return false\n",
    "            end\n",
    "            x3=Lorentz2(x_yz,vn_yz,r) \n",
    "            if(x3==false)\n",
    "                return false\n",
    "            end\n",
    "            t1=(sqrt(dot(x1-x_xy,x1-x_xy))-r)/sqrt(dot(v_xy,v_xy))\n",
    "            t2=(sqrt(dot(x2-x_xz,x2-x_xz))-r)/sqrt(dot(v_xz,v_xz))\n",
    "            t3=(sqrt(dot(x3-x_yz,x3-x_yz))-r)/sqrt(dot(v_yz,v_yz))  #calculate the time used to reach the obstacle. \n",
    "\n",
    "            tmax=maximum([t1 t2 t3])    # if the minumum and maximum valueds of time are almost the same, then \n",
    "            tmin=minimum([t1 t2 t3])    # there is very high probable a collision  \n",
    "            x=x+v*(tmax-0.1*r)   \n",
    "\n",
    "        end\n",
    "        xr, tt=collision(x,int(x),r,v) #calculates the collision. In case that there is not, then, it advance the particle to the \n",
    "                                   #next cell\n",
    "        if(tt<0)\n",
    "            xr=false\n",
    "        end\n",
    "        x=x+v*(1-2*r)\n",
    "    end\n",
    "    return xr\n",
    "end"
   ]
  },
  {
   "cell_type": "code",
   "execution_count": 7,
   "metadata": {
    "collapsed": false
   },
   "outputs": [
    {
     "data": {
      "text/plain": [
       "ClassicLorentz (generic function with 1 method)"
      ]
     },
     "execution_count": 7,
     "metadata": {},
     "output_type": "execute_result"
    }
   ],
   "source": [
    "function ClassicLorentz(x,v,r)    #This is a simpler and inefficient version of the Classic algorithm for ND. Just to \n",
    "                                  #check if the 3D version works correctly.\n",
    "   if(norm(int(x)-x)<r)   #if a particle begin inside an obstacle, then the first collision \n",
    "                          #is considered with the same obstacle.\n",
    "        xx,tt=collision(x,int(x),r,v)\n",
    "        return xx\n",
    "    end\n",
    "    xr=false\n",
    "    i=0.0\n",
    "    while (xr==false)\n",
    "        while (xr==false)\n",
    "            xr, tt=collision(x,int(x+v*(i)),r,v)\n",
    "            i=i+1-2*r\n",
    "        end\n",
    "        t=sqrt(dot(xr-x,xr-x)/dot(v,v))\n",
    "        if(dot(x+t*v-xr,x+t*v-xr)>dot(xr-x,xr-x))\n",
    "            xr=false\n",
    "        end\n",
    "    end\n",
    "    return xr\n",
    "end"
   ]
  },
  {
   "cell_type": "code",
   "execution_count": 8,
   "metadata": {
    "collapsed": false
   },
   "outputs": [
    {
     "data": {
      "text/plain": [
       "false"
      ]
     },
     "execution_count": 8,
     "metadata": {},
     "output_type": "execute_result"
    }
   ],
   "source": [
    "r=BigFloat(\"0.02\")\n",
    "v = [3, 4, 5].*BigFloat[1,1,1]    #Discovering chennesl... this valued of the velocity produce a channel\n",
    "    v=v/norm(v)\n",
    "x=[0.555774, 0.401411, 0.293452]\n",
    "    x2=Lorentz3D2(x,v,r)"
   ]
  }
 ],
 "metadata": {
  "kernelspec": {
   "display_name": "Julia 0.3.9",
   "language": "julia",
   "name": "julia-0.3"
  },
  "language_info": {
   "name": "julia",
   "version": "0.3.9"
  }
 },
 "nbformat": 4,
 "nbformat_minor": 0
}
